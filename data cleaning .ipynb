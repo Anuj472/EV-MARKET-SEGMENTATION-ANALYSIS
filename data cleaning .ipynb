{
 "cells": [
  {
   "cell_type": "code",
   "execution_count": 1,
   "id": "fc8bd3e4",
   "metadata": {},
   "outputs": [],
   "source": [
    "import numpy as np \n",
    "\n",
    "import pandas as pd"
   ]
  },
  {
   "cell_type": "code",
   "execution_count": 2,
   "id": "1d9e96cc",
   "metadata": {},
   "outputs": [],
   "source": [
    "df = pd.read_csv(\"ElectricCarData_Norm.csv\")"
   ]
  },
  {
   "cell_type": "code",
   "execution_count": 3,
   "id": "54b7ff7e",
   "metadata": {},
   "outputs": [
    {
     "data": {
      "text/html": [
       "<div>\n",
       "<style scoped>\n",
       "    .dataframe tbody tr th:only-of-type {\n",
       "        vertical-align: middle;\n",
       "    }\n",
       "\n",
       "    .dataframe tbody tr th {\n",
       "        vertical-align: top;\n",
       "    }\n",
       "\n",
       "    .dataframe thead th {\n",
       "        text-align: right;\n",
       "    }\n",
       "</style>\n",
       "<table border=\"1\" class=\"dataframe\">\n",
       "  <thead>\n",
       "    <tr style=\"text-align: right;\">\n",
       "      <th></th>\n",
       "      <th>Brand</th>\n",
       "      <th>Model</th>\n",
       "      <th>Accel</th>\n",
       "      <th>TopSpeed</th>\n",
       "      <th>Range</th>\n",
       "      <th>Efficiency</th>\n",
       "      <th>FastCharge</th>\n",
       "      <th>RapidCharge</th>\n",
       "      <th>PowerTrain</th>\n",
       "      <th>PlugType</th>\n",
       "      <th>BodyStyle</th>\n",
       "      <th>Segment</th>\n",
       "      <th>Seats</th>\n",
       "      <th>PriceEuro</th>\n",
       "    </tr>\n",
       "  </thead>\n",
       "  <tbody>\n",
       "    <tr>\n",
       "      <th>0</th>\n",
       "      <td>Tesla</td>\n",
       "      <td>Model 3 Long Range Dual Motor</td>\n",
       "      <td>4.6 sec</td>\n",
       "      <td>233 km/h</td>\n",
       "      <td>450 km</td>\n",
       "      <td>161 Wh/km</td>\n",
       "      <td>940 km/h</td>\n",
       "      <td>Rapid charging possible</td>\n",
       "      <td>All Wheel Drive</td>\n",
       "      <td>Type 2 CCS</td>\n",
       "      <td>Sedan</td>\n",
       "      <td>D</td>\n",
       "      <td>5</td>\n",
       "      <td>55480</td>\n",
       "    </tr>\n",
       "    <tr>\n",
       "      <th>1</th>\n",
       "      <td>Volkswagen</td>\n",
       "      <td>ID.3 Pure</td>\n",
       "      <td>10.0 sec</td>\n",
       "      <td>160 km/h</td>\n",
       "      <td>270 km</td>\n",
       "      <td>167 Wh/km</td>\n",
       "      <td>250 km/h</td>\n",
       "      <td>Rapid charging possible</td>\n",
       "      <td>Rear Wheel Drive</td>\n",
       "      <td>Type 2 CCS</td>\n",
       "      <td>Hatchback</td>\n",
       "      <td>C</td>\n",
       "      <td>5</td>\n",
       "      <td>30000</td>\n",
       "    </tr>\n",
       "    <tr>\n",
       "      <th>2</th>\n",
       "      <td>Polestar</td>\n",
       "      <td>2</td>\n",
       "      <td>4.7 sec</td>\n",
       "      <td>210 km/h</td>\n",
       "      <td>400 km</td>\n",
       "      <td>181 Wh/km</td>\n",
       "      <td>620 km/h</td>\n",
       "      <td>Rapid charging possible</td>\n",
       "      <td>All Wheel Drive</td>\n",
       "      <td>Type 2 CCS</td>\n",
       "      <td>Liftback</td>\n",
       "      <td>D</td>\n",
       "      <td>5</td>\n",
       "      <td>56440</td>\n",
       "    </tr>\n",
       "    <tr>\n",
       "      <th>3</th>\n",
       "      <td>BMW</td>\n",
       "      <td>iX3</td>\n",
       "      <td>6.8 sec</td>\n",
       "      <td>180 km/h</td>\n",
       "      <td>360 km</td>\n",
       "      <td>206 Wh/km</td>\n",
       "      <td>560 km/h</td>\n",
       "      <td>Rapid charging possible</td>\n",
       "      <td>Rear Wheel Drive</td>\n",
       "      <td>Type 2 CCS</td>\n",
       "      <td>SUV</td>\n",
       "      <td>D</td>\n",
       "      <td>5</td>\n",
       "      <td>68040</td>\n",
       "    </tr>\n",
       "    <tr>\n",
       "      <th>4</th>\n",
       "      <td>Honda</td>\n",
       "      <td>e</td>\n",
       "      <td>9.5 sec</td>\n",
       "      <td>145 km/h</td>\n",
       "      <td>170 km</td>\n",
       "      <td>168 Wh/km</td>\n",
       "      <td>190 km/h</td>\n",
       "      <td>Rapid charging possible</td>\n",
       "      <td>Rear Wheel Drive</td>\n",
       "      <td>Type 2 CCS</td>\n",
       "      <td>Hatchback</td>\n",
       "      <td>B</td>\n",
       "      <td>4</td>\n",
       "      <td>32997</td>\n",
       "    </tr>\n",
       "  </tbody>\n",
       "</table>\n",
       "</div>"
      ],
      "text/plain": [
       "         Brand                          Model     Accel  TopSpeed   Range  \\\n",
       "0       Tesla   Model 3 Long Range Dual Motor   4.6 sec  233 km/h  450 km   \n",
       "1  Volkswagen                       ID.3 Pure  10.0 sec  160 km/h  270 km   \n",
       "2    Polestar                               2   4.7 sec  210 km/h  400 km   \n",
       "3         BMW                            iX3    6.8 sec  180 km/h  360 km   \n",
       "4       Honda                              e    9.5 sec  145 km/h  170 km   \n",
       "\n",
       "  Efficiency FastCharge              RapidCharge        PowerTrain  \\\n",
       "0  161 Wh/km   940 km/h  Rapid charging possible   All Wheel Drive   \n",
       "1  167 Wh/km   250 km/h  Rapid charging possible  Rear Wheel Drive   \n",
       "2  181 Wh/km   620 km/h  Rapid charging possible   All Wheel Drive   \n",
       "3  206 Wh/km   560 km/h  Rapid charging possible  Rear Wheel Drive   \n",
       "4  168 Wh/km   190 km/h  Rapid charging possible  Rear Wheel Drive   \n",
       "\n",
       "     PlugType  BodyStyle Segment  Seats  PriceEuro  \n",
       "0  Type 2 CCS      Sedan       D      5      55480  \n",
       "1  Type 2 CCS  Hatchback       C      5      30000  \n",
       "2  Type 2 CCS   Liftback       D      5      56440  \n",
       "3  Type 2 CCS        SUV       D      5      68040  \n",
       "4  Type 2 CCS  Hatchback       B      4      32997  "
      ]
     },
     "execution_count": 3,
     "metadata": {},
     "output_type": "execute_result"
    }
   ],
   "source": [
    "df.head()"
   ]
  },
  {
   "cell_type": "code",
   "execution_count": 4,
   "id": "5eed0997",
   "metadata": {},
   "outputs": [
    {
     "data": {
      "text/plain": [
       "(103, 14)"
      ]
     },
     "execution_count": 4,
     "metadata": {},
     "output_type": "execute_result"
    }
   ],
   "source": [
    "df.shape"
   ]
  },
  {
   "cell_type": "code",
   "execution_count": 5,
   "id": "f8460f4e",
   "metadata": {},
   "outputs": [
    {
     "data": {
      "text/plain": [
       "Index(['Brand', 'Model', 'Accel', 'TopSpeed', 'Range', 'Efficiency',\n",
       "       'FastCharge', 'RapidCharge', 'PowerTrain', 'PlugType', 'BodyStyle',\n",
       "       'Segment', 'Seats', 'PriceEuro'],\n",
       "      dtype='object')"
      ]
     },
     "execution_count": 5,
     "metadata": {},
     "output_type": "execute_result"
    }
   ],
   "source": [
    "# colums\n",
    "df.columns"
   ]
  },
  {
   "cell_type": "code",
   "execution_count": 6,
   "id": "bff36cb4",
   "metadata": {},
   "outputs": [
    {
     "name": "stdout",
     "output_type": "stream",
     "text": [
      "<class 'pandas.core.frame.DataFrame'>\n",
      "RangeIndex: 103 entries, 0 to 102\n",
      "Data columns (total 14 columns):\n",
      " #   Column       Non-Null Count  Dtype \n",
      "---  ------       --------------  ----- \n",
      " 0   Brand        103 non-null    object\n",
      " 1   Model        103 non-null    object\n",
      " 2   Accel        103 non-null    object\n",
      " 3   TopSpeed     103 non-null    object\n",
      " 4   Range        103 non-null    object\n",
      " 5   Efficiency   103 non-null    object\n",
      " 6   FastCharge   103 non-null    object\n",
      " 7   RapidCharge  103 non-null    object\n",
      " 8   PowerTrain   103 non-null    object\n",
      " 9   PlugType     103 non-null    object\n",
      " 10  BodyStyle    103 non-null    object\n",
      " 11  Segment      103 non-null    object\n",
      " 12  Seats        103 non-null    int64 \n",
      " 13  PriceEuro    103 non-null    int64 \n",
      "dtypes: int64(2), object(12)\n",
      "memory usage: 11.4+ KB\n"
     ]
    }
   ],
   "source": [
    "# basic info \n",
    "df.info()"
   ]
  },
  {
   "cell_type": "code",
   "execution_count": 7,
   "id": "2fea5bbb",
   "metadata": {},
   "outputs": [
    {
     "data": {
      "text/plain": [
       "Brand          0\n",
       "Model          0\n",
       "Accel          0\n",
       "TopSpeed       0\n",
       "Range          0\n",
       "Efficiency     0\n",
       "FastCharge     0\n",
       "RapidCharge    0\n",
       "PowerTrain     0\n",
       "PlugType       0\n",
       "BodyStyle      0\n",
       "Segment        0\n",
       "Seats          0\n",
       "PriceEuro      0\n",
       "dtype: int64"
      ]
     },
     "execution_count": 7,
     "metadata": {},
     "output_type": "execute_result"
    }
   ],
   "source": [
    "# null values\n",
    "df.isnull().sum()"
   ]
  },
  {
   "cell_type": "code",
   "execution_count": 8,
   "id": "ec49a956",
   "metadata": {},
   "outputs": [
    {
     "data": {
      "text/plain": [
       "0"
      ]
     },
     "execution_count": 8,
     "metadata": {},
     "output_type": "execute_result"
    }
   ],
   "source": [
    "# checkbing dupicated values:\n",
    "df.duplicated().sum()"
   ]
  },
  {
   "cell_type": "code",
   "execution_count": 9,
   "id": "48f73295",
   "metadata": {},
   "outputs": [
    {
     "data": {
      "text/html": [
       "<div>\n",
       "<style scoped>\n",
       "    .dataframe tbody tr th:only-of-type {\n",
       "        vertical-align: middle;\n",
       "    }\n",
       "\n",
       "    .dataframe tbody tr th {\n",
       "        vertical-align: top;\n",
       "    }\n",
       "\n",
       "    .dataframe thead th {\n",
       "        text-align: right;\n",
       "    }\n",
       "</style>\n",
       "<table border=\"1\" class=\"dataframe\">\n",
       "  <thead>\n",
       "    <tr style=\"text-align: right;\">\n",
       "      <th></th>\n",
       "      <th>Seats</th>\n",
       "      <th>PriceEuro</th>\n",
       "    </tr>\n",
       "  </thead>\n",
       "  <tbody>\n",
       "    <tr>\n",
       "      <th>count</th>\n",
       "      <td>103.000000</td>\n",
       "      <td>103.000000</td>\n",
       "    </tr>\n",
       "    <tr>\n",
       "      <th>mean</th>\n",
       "      <td>4.883495</td>\n",
       "      <td>55811.563107</td>\n",
       "    </tr>\n",
       "    <tr>\n",
       "      <th>std</th>\n",
       "      <td>0.795834</td>\n",
       "      <td>34134.665280</td>\n",
       "    </tr>\n",
       "    <tr>\n",
       "      <th>min</th>\n",
       "      <td>2.000000</td>\n",
       "      <td>20129.000000</td>\n",
       "    </tr>\n",
       "    <tr>\n",
       "      <th>25%</th>\n",
       "      <td>5.000000</td>\n",
       "      <td>34429.500000</td>\n",
       "    </tr>\n",
       "    <tr>\n",
       "      <th>50%</th>\n",
       "      <td>5.000000</td>\n",
       "      <td>45000.000000</td>\n",
       "    </tr>\n",
       "    <tr>\n",
       "      <th>75%</th>\n",
       "      <td>5.000000</td>\n",
       "      <td>65000.000000</td>\n",
       "    </tr>\n",
       "    <tr>\n",
       "      <th>max</th>\n",
       "      <td>7.000000</td>\n",
       "      <td>215000.000000</td>\n",
       "    </tr>\n",
       "  </tbody>\n",
       "</table>\n",
       "</div>"
      ],
      "text/plain": [
       "            Seats      PriceEuro\n",
       "count  103.000000     103.000000\n",
       "mean     4.883495   55811.563107\n",
       "std      0.795834   34134.665280\n",
       "min      2.000000   20129.000000\n",
       "25%      5.000000   34429.500000\n",
       "50%      5.000000   45000.000000\n",
       "75%      5.000000   65000.000000\n",
       "max      7.000000  215000.000000"
      ]
     },
     "execution_count": 9,
     "metadata": {},
     "output_type": "execute_result"
    }
   ],
   "source": [
    "df.describe()"
   ]
  },
  {
   "cell_type": "markdown",
   "id": "11d26bf1",
   "metadata": {},
   "source": [
    "# data cleaning\n"
   ]
  },
  {
   "cell_type": "code",
   "execution_count": 10,
   "id": "2f975b23",
   "metadata": {},
   "outputs": [],
   "source": [
    "df['FastCharge'] =df['FastCharge'].replace('-',np.nan)"
   ]
  },
  {
   "cell_type": "code",
   "execution_count": null,
   "id": "d2804fae",
   "metadata": {},
   "outputs": [],
   "source": []
  },
  {
   "cell_type": "code",
   "execution_count": 11,
   "id": "95f9dee1",
   "metadata": {},
   "outputs": [],
   "source": [
    "df.dropna(inplace=True)"
   ]
  },
  {
   "cell_type": "code",
   "execution_count": 12,
   "id": "b7f6dc21",
   "metadata": {},
   "outputs": [],
   "source": [
    "df['Accel']= df['Accel'].apply(lambda x :float(x.split(' ')[0]))"
   ]
  },
  {
   "cell_type": "code",
   "execution_count": 13,
   "id": "eafa287a",
   "metadata": {},
   "outputs": [],
   "source": [
    "df['TopSpeed']= df['TopSpeed'].apply(lambda x :float(x.split(' ')[0]))"
   ]
  },
  {
   "cell_type": "code",
   "execution_count": 14,
   "id": "9b0c9de8",
   "metadata": {},
   "outputs": [],
   "source": [
    "df['Range']= df['Range'].apply(lambda x :float(x.split(' ')[0]))"
   ]
  },
  {
   "cell_type": "code",
   "execution_count": 15,
   "id": "f4b45945",
   "metadata": {},
   "outputs": [],
   "source": [
    "df['Efficiency']= df['Efficiency'].apply(lambda x :float(x.split(' ')[0]))"
   ]
  },
  {
   "cell_type": "code",
   "execution_count": 16,
   "id": "019bd6c3",
   "metadata": {},
   "outputs": [],
   "source": [
    "df['FastCharge']= df['FastCharge'].apply(lambda x :float(x.split(' ')[0]))"
   ]
  },
  {
   "cell_type": "code",
   "execution_count": 17,
   "id": "193814d5",
   "metadata": {},
   "outputs": [
    {
     "data": {
      "text/html": [
       "<div>\n",
       "<style scoped>\n",
       "    .dataframe tbody tr th:only-of-type {\n",
       "        vertical-align: middle;\n",
       "    }\n",
       "\n",
       "    .dataframe tbody tr th {\n",
       "        vertical-align: top;\n",
       "    }\n",
       "\n",
       "    .dataframe thead th {\n",
       "        text-align: right;\n",
       "    }\n",
       "</style>\n",
       "<table border=\"1\" class=\"dataframe\">\n",
       "  <thead>\n",
       "    <tr style=\"text-align: right;\">\n",
       "      <th></th>\n",
       "      <th>Brand</th>\n",
       "      <th>Model</th>\n",
       "      <th>Accel</th>\n",
       "      <th>TopSpeed</th>\n",
       "      <th>Range</th>\n",
       "      <th>Efficiency</th>\n",
       "      <th>FastCharge</th>\n",
       "      <th>RapidCharge</th>\n",
       "      <th>PowerTrain</th>\n",
       "      <th>PlugType</th>\n",
       "      <th>BodyStyle</th>\n",
       "      <th>Segment</th>\n",
       "      <th>Seats</th>\n",
       "      <th>PriceEuro</th>\n",
       "    </tr>\n",
       "  </thead>\n",
       "  <tbody>\n",
       "    <tr>\n",
       "      <th>0</th>\n",
       "      <td>Tesla</td>\n",
       "      <td>Model 3 Long Range Dual Motor</td>\n",
       "      <td>4.6</td>\n",
       "      <td>233.0</td>\n",
       "      <td>450.0</td>\n",
       "      <td>161.0</td>\n",
       "      <td>940.0</td>\n",
       "      <td>Rapid charging possible</td>\n",
       "      <td>All Wheel Drive</td>\n",
       "      <td>Type 2 CCS</td>\n",
       "      <td>Sedan</td>\n",
       "      <td>D</td>\n",
       "      <td>5</td>\n",
       "      <td>55480</td>\n",
       "    </tr>\n",
       "    <tr>\n",
       "      <th>1</th>\n",
       "      <td>Volkswagen</td>\n",
       "      <td>ID.3 Pure</td>\n",
       "      <td>10.0</td>\n",
       "      <td>160.0</td>\n",
       "      <td>270.0</td>\n",
       "      <td>167.0</td>\n",
       "      <td>250.0</td>\n",
       "      <td>Rapid charging possible</td>\n",
       "      <td>Rear Wheel Drive</td>\n",
       "      <td>Type 2 CCS</td>\n",
       "      <td>Hatchback</td>\n",
       "      <td>C</td>\n",
       "      <td>5</td>\n",
       "      <td>30000</td>\n",
       "    </tr>\n",
       "    <tr>\n",
       "      <th>2</th>\n",
       "      <td>Polestar</td>\n",
       "      <td>2</td>\n",
       "      <td>4.7</td>\n",
       "      <td>210.0</td>\n",
       "      <td>400.0</td>\n",
       "      <td>181.0</td>\n",
       "      <td>620.0</td>\n",
       "      <td>Rapid charging possible</td>\n",
       "      <td>All Wheel Drive</td>\n",
       "      <td>Type 2 CCS</td>\n",
       "      <td>Liftback</td>\n",
       "      <td>D</td>\n",
       "      <td>5</td>\n",
       "      <td>56440</td>\n",
       "    </tr>\n",
       "    <tr>\n",
       "      <th>3</th>\n",
       "      <td>BMW</td>\n",
       "      <td>iX3</td>\n",
       "      <td>6.8</td>\n",
       "      <td>180.0</td>\n",
       "      <td>360.0</td>\n",
       "      <td>206.0</td>\n",
       "      <td>560.0</td>\n",
       "      <td>Rapid charging possible</td>\n",
       "      <td>Rear Wheel Drive</td>\n",
       "      <td>Type 2 CCS</td>\n",
       "      <td>SUV</td>\n",
       "      <td>D</td>\n",
       "      <td>5</td>\n",
       "      <td>68040</td>\n",
       "    </tr>\n",
       "    <tr>\n",
       "      <th>4</th>\n",
       "      <td>Honda</td>\n",
       "      <td>e</td>\n",
       "      <td>9.5</td>\n",
       "      <td>145.0</td>\n",
       "      <td>170.0</td>\n",
       "      <td>168.0</td>\n",
       "      <td>190.0</td>\n",
       "      <td>Rapid charging possible</td>\n",
       "      <td>Rear Wheel Drive</td>\n",
       "      <td>Type 2 CCS</td>\n",
       "      <td>Hatchback</td>\n",
       "      <td>B</td>\n",
       "      <td>4</td>\n",
       "      <td>32997</td>\n",
       "    </tr>\n",
       "  </tbody>\n",
       "</table>\n",
       "</div>"
      ],
      "text/plain": [
       "         Brand                          Model  Accel  TopSpeed  Range  \\\n",
       "0       Tesla   Model 3 Long Range Dual Motor    4.6     233.0  450.0   \n",
       "1  Volkswagen                       ID.3 Pure   10.0     160.0  270.0   \n",
       "2    Polestar                               2    4.7     210.0  400.0   \n",
       "3         BMW                            iX3     6.8     180.0  360.0   \n",
       "4       Honda                              e     9.5     145.0  170.0   \n",
       "\n",
       "   Efficiency  FastCharge              RapidCharge        PowerTrain  \\\n",
       "0       161.0       940.0  Rapid charging possible   All Wheel Drive   \n",
       "1       167.0       250.0  Rapid charging possible  Rear Wheel Drive   \n",
       "2       181.0       620.0  Rapid charging possible   All Wheel Drive   \n",
       "3       206.0       560.0  Rapid charging possible  Rear Wheel Drive   \n",
       "4       168.0       190.0  Rapid charging possible  Rear Wheel Drive   \n",
       "\n",
       "     PlugType  BodyStyle Segment  Seats  PriceEuro  \n",
       "0  Type 2 CCS      Sedan       D      5      55480  \n",
       "1  Type 2 CCS  Hatchback       C      5      30000  \n",
       "2  Type 2 CCS   Liftback       D      5      56440  \n",
       "3  Type 2 CCS        SUV       D      5      68040  \n",
       "4  Type 2 CCS  Hatchback       B      4      32997  "
      ]
     },
     "execution_count": 17,
     "metadata": {},
     "output_type": "execute_result"
    }
   ],
   "source": [
    "df.head()"
   ]
  },
  {
   "cell_type": "code",
   "execution_count": null,
   "id": "6f87bae1",
   "metadata": {},
   "outputs": [],
   "source": []
  },
  {
   "cell_type": "code",
   "execution_count": 18,
   "id": "e5a34ff2",
   "metadata": {},
   "outputs": [],
   "source": [
    "# label encoding \n",
    "from sklearn.preprocessing import LabelEncoder\n",
    "df['RapidCharge'] = LabelEncoder().fit_transform(df['RapidCharge'])"
   ]
  },
  {
   "cell_type": "code",
   "execution_count": 19,
   "id": "d1ac4eb8",
   "metadata": {},
   "outputs": [],
   "source": [
    "df.drop('RapidCharge',axis =1,inplace =True)"
   ]
  },
  {
   "cell_type": "code",
   "execution_count": 20,
   "id": "7618f56d",
   "metadata": {},
   "outputs": [
    {
     "data": {
      "text/html": [
       "<div>\n",
       "<style scoped>\n",
       "    .dataframe tbody tr th:only-of-type {\n",
       "        vertical-align: middle;\n",
       "    }\n",
       "\n",
       "    .dataframe tbody tr th {\n",
       "        vertical-align: top;\n",
       "    }\n",
       "\n",
       "    .dataframe thead th {\n",
       "        text-align: right;\n",
       "    }\n",
       "</style>\n",
       "<table border=\"1\" class=\"dataframe\">\n",
       "  <thead>\n",
       "    <tr style=\"text-align: right;\">\n",
       "      <th></th>\n",
       "      <th>Brand</th>\n",
       "      <th>Model</th>\n",
       "      <th>Accel</th>\n",
       "      <th>TopSpeed</th>\n",
       "      <th>Range</th>\n",
       "      <th>Efficiency</th>\n",
       "      <th>FastCharge</th>\n",
       "      <th>PowerTrain</th>\n",
       "      <th>PlugType</th>\n",
       "      <th>BodyStyle</th>\n",
       "      <th>Segment</th>\n",
       "      <th>Seats</th>\n",
       "      <th>PriceEuro</th>\n",
       "    </tr>\n",
       "  </thead>\n",
       "  <tbody>\n",
       "    <tr>\n",
       "      <th>0</th>\n",
       "      <td>Tesla</td>\n",
       "      <td>Model 3 Long Range Dual Motor</td>\n",
       "      <td>4.6</td>\n",
       "      <td>233.0</td>\n",
       "      <td>450.0</td>\n",
       "      <td>161.0</td>\n",
       "      <td>940.0</td>\n",
       "      <td>All Wheel Drive</td>\n",
       "      <td>Type 2 CCS</td>\n",
       "      <td>Sedan</td>\n",
       "      <td>D</td>\n",
       "      <td>5</td>\n",
       "      <td>55480</td>\n",
       "    </tr>\n",
       "    <tr>\n",
       "      <th>1</th>\n",
       "      <td>Volkswagen</td>\n",
       "      <td>ID.3 Pure</td>\n",
       "      <td>10.0</td>\n",
       "      <td>160.0</td>\n",
       "      <td>270.0</td>\n",
       "      <td>167.0</td>\n",
       "      <td>250.0</td>\n",
       "      <td>Rear Wheel Drive</td>\n",
       "      <td>Type 2 CCS</td>\n",
       "      <td>Hatchback</td>\n",
       "      <td>C</td>\n",
       "      <td>5</td>\n",
       "      <td>30000</td>\n",
       "    </tr>\n",
       "    <tr>\n",
       "      <th>2</th>\n",
       "      <td>Polestar</td>\n",
       "      <td>2</td>\n",
       "      <td>4.7</td>\n",
       "      <td>210.0</td>\n",
       "      <td>400.0</td>\n",
       "      <td>181.0</td>\n",
       "      <td>620.0</td>\n",
       "      <td>All Wheel Drive</td>\n",
       "      <td>Type 2 CCS</td>\n",
       "      <td>Liftback</td>\n",
       "      <td>D</td>\n",
       "      <td>5</td>\n",
       "      <td>56440</td>\n",
       "    </tr>\n",
       "    <tr>\n",
       "      <th>3</th>\n",
       "      <td>BMW</td>\n",
       "      <td>iX3</td>\n",
       "      <td>6.8</td>\n",
       "      <td>180.0</td>\n",
       "      <td>360.0</td>\n",
       "      <td>206.0</td>\n",
       "      <td>560.0</td>\n",
       "      <td>Rear Wheel Drive</td>\n",
       "      <td>Type 2 CCS</td>\n",
       "      <td>SUV</td>\n",
       "      <td>D</td>\n",
       "      <td>5</td>\n",
       "      <td>68040</td>\n",
       "    </tr>\n",
       "    <tr>\n",
       "      <th>4</th>\n",
       "      <td>Honda</td>\n",
       "      <td>e</td>\n",
       "      <td>9.5</td>\n",
       "      <td>145.0</td>\n",
       "      <td>170.0</td>\n",
       "      <td>168.0</td>\n",
       "      <td>190.0</td>\n",
       "      <td>Rear Wheel Drive</td>\n",
       "      <td>Type 2 CCS</td>\n",
       "      <td>Hatchback</td>\n",
       "      <td>B</td>\n",
       "      <td>4</td>\n",
       "      <td>32997</td>\n",
       "    </tr>\n",
       "  </tbody>\n",
       "</table>\n",
       "</div>"
      ],
      "text/plain": [
       "         Brand                          Model  Accel  TopSpeed  Range  \\\n",
       "0       Tesla   Model 3 Long Range Dual Motor    4.6     233.0  450.0   \n",
       "1  Volkswagen                       ID.3 Pure   10.0     160.0  270.0   \n",
       "2    Polestar                               2    4.7     210.0  400.0   \n",
       "3         BMW                            iX3     6.8     180.0  360.0   \n",
       "4       Honda                              e     9.5     145.0  170.0   \n",
       "\n",
       "   Efficiency  FastCharge        PowerTrain    PlugType  BodyStyle Segment  \\\n",
       "0       161.0       940.0   All Wheel Drive  Type 2 CCS      Sedan       D   \n",
       "1       167.0       250.0  Rear Wheel Drive  Type 2 CCS  Hatchback       C   \n",
       "2       181.0       620.0   All Wheel Drive  Type 2 CCS   Liftback       D   \n",
       "3       206.0       560.0  Rear Wheel Drive  Type 2 CCS        SUV       D   \n",
       "4       168.0       190.0  Rear Wheel Drive  Type 2 CCS  Hatchback       B   \n",
       "\n",
       "   Seats  PriceEuro  \n",
       "0      5      55480  \n",
       "1      5      30000  \n",
       "2      5      56440  \n",
       "3      5      68040  \n",
       "4      4      32997  "
      ]
     },
     "execution_count": 20,
     "metadata": {},
     "output_type": "execute_result"
    }
   ],
   "source": [
    "df.head()"
   ]
  },
  {
   "cell_type": "code",
   "execution_count": 21,
   "id": "4ef9b123",
   "metadata": {},
   "outputs": [],
   "source": [
    "df.to_csv('clean_dataframe.csv')"
   ]
  },
  {
   "cell_type": "code",
   "execution_count": null,
   "id": "ec6b193c",
   "metadata": {},
   "outputs": [],
   "source": []
  }
 ],
 "metadata": {
  "kernelspec": {
   "display_name": "Python 3 (ipykernel)",
   "language": "python",
   "name": "python3"
  },
  "language_info": {
   "codemirror_mode": {
    "name": "ipython",
    "version": 3
   },
   "file_extension": ".py",
   "mimetype": "text/x-python",
   "name": "python",
   "nbconvert_exporter": "python",
   "pygments_lexer": "ipython3",
   "version": "3.9.7"
  }
 },
 "nbformat": 4,
 "nbformat_minor": 5
}
